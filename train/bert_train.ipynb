{
 "cells": [
  {
   "cell_type": "code",
   "execution_count": 1,
   "id": "43ca65fa",
   "metadata": {},
   "outputs": [
    {
     "name": "stderr",
     "output_type": "stream",
     "text": [
      "/home/gaon/anaconda3/envs/bert-env/lib/python3.10/site-packages/tqdm/auto.py:21: TqdmWarning: IProgress not found. Please update jupyter and ipywidgets. See https://ipywidgets.readthedocs.io/en/stable/user_install.html\n",
      "  from .autonotebook import tqdm as notebook_tqdm\n"
     ]
    }
   ],
   "source": [
    "from sklearn.preprocessing import LabelEncoder\n",
    "from sklearn.model_selection import train_test_split\n",
    "import pandas as pd\n",
    "from datasets import Dataset\n",
    "from transformers import (\n",
    "    AutoTokenizer, AutoModelForSequenceClassification,\n",
    "    TrainingArguments, Trainer, EarlyStoppingCallback\n",
    ")\n",
    "import numpy as np\n",
    "from sklearn.metrics import accuracy_score"
   ]
  },
  {
   "cell_type": "code",
   "execution_count": 2,
   "id": "877709e3",
   "metadata": {},
   "outputs": [],
   "source": [
    "import pandas as pd\n",
    "\n",
    "# 1. 데이터 불러오기\n",
    "df = pd.read_csv('merged_product_data.csv', encoding='cp949')\n",
    "\n",
    "# 2. NaN 방지 + 포맷 통일\n",
    "def format_text_with_tags(row):\n",
    "    text = row.get('text', '')\n",
    "    if pd.isna(text):  # NaN이면 빈 문자열 처리\n",
    "        return \"[TITLE] 없음 [INFO] 없음\"\n",
    "\n",
    "    fields = text.split(' / ')\n",
    "    title = fields[0].replace(\"제품명:\", \"\").strip()\n",
    "    info = ' / '.join(fields[1:]).strip() if len(fields) > 1 else \"\"\n",
    "    return f\"[TITLE] {title} [INFO] {info}\"\n",
    "\n",
    "df['text_full'] = df.apply(format_text_with_tags, axis=1)\n",
    "\n",
    "# 3. 제목만 사용하는 버전\n",
    "df['text_title_only'] = df['text_full'].apply(lambda x: x.split(\"[INFO]\")[0] + \"[INFO]\")\n"
   ]
  },
  {
   "cell_type": "code",
   "execution_count": 3,
   "id": "99f56c10",
   "metadata": {},
   "outputs": [],
   "source": [
    "# 3. 두 개 버전의 데이터를 합치기 (증강)\n",
    "df_full = df[['text_full', 'label']].rename(columns={\"text_full\": \"text\"})\n",
    "df_title_only = df[['text_title_only', 'label']].rename(columns={\"text_title_only\": \"text\"})\n",
    "df_augmented = pd.concat([df_full, df_title_only], ignore_index=True)\n",
    "\n",
    "# 4. 라벨 인코딩\n",
    "label_encoder = LabelEncoder()\n",
    "df_augmented['label_id'] = label_encoder.fit_transform(df_augmented['label'])"
   ]
  },
  {
   "cell_type": "code",
   "execution_count": 4,
   "id": "2edb4a70",
   "metadata": {},
   "outputs": [],
   "source": [
    "# 5. Train/Val/Test 분할\n",
    "train_val_df, test_df = train_test_split(df_augmented, test_size=0.1, stratify=df_augmented['label_id'], random_state=42)\n",
    "train_df, val_df = train_test_split(train_val_df, test_size=0.1, stratify=train_val_df['label_id'], random_state=42)\n",
    "\n",
    "# 6. HuggingFace Dataset 변환\n",
    "train_dataset = Dataset.from_pandas(train_df[['text', 'label_id']])\n",
    "val_dataset = Dataset.from_pandas(val_df[['text', 'label_id']])\n",
    "test_dataset = Dataset.from_pandas(test_df[['text', 'label_id']])"
   ]
  },
  {
   "cell_type": "code",
   "execution_count": 5,
   "id": "6e8de878",
   "metadata": {},
   "outputs": [
    {
     "name": "stderr",
     "output_type": "stream",
     "text": [
      "Map: 100%|██████████| 68256/68256 [00:09<00:00, 7354.76 examples/s]\n",
      "Map: 100%|██████████| 68256/68256 [00:00<00:00, 272108.99 examples/s]\n",
      "Map: 100%|██████████| 7585/7585 [00:00<00:00, 7941.66 examples/s]\n",
      "Map: 100%|██████████| 7585/7585 [00:00<00:00, 337941.32 examples/s]\n",
      "Map: 100%|██████████| 8427/8427 [00:01<00:00, 8106.00 examples/s]\n",
      "Map: 100%|██████████| 8427/8427 [00:00<00:00, 336558.75 examples/s]\n"
     ]
    }
   ],
   "source": [
    "# 7. Tokenizer\n",
    "tokenizer = AutoTokenizer.from_pretrained(\"klue/bert-base\")\n",
    "\n",
    "def tokenize_fn(examples):\n",
    "    return tokenizer(examples[\"text\"], truncation=True, padding=\"max_length\", max_length=512)\n",
    "\n",
    "train_dataset = train_dataset.map(tokenize_fn, batched=True).map(lambda x: {'labels': x['label_id']}, batched=True)\n",
    "val_dataset = val_dataset.map(tokenize_fn, batched=True).map(lambda x: {'labels': x['label_id']}, batched=True)\n",
    "test_dataset = test_dataset.map(tokenize_fn, batched=True).map(lambda x: {'labels': x['label_id']}, batched=True)\n"
   ]
  },
  {
   "cell_type": "code",
   "execution_count": 6,
   "id": "f87bfe5c",
   "metadata": {},
   "outputs": [
    {
     "name": "stderr",
     "output_type": "stream",
     "text": [
      "Some weights of BertForSequenceClassification were not initialized from the model checkpoint at klue/bert-base and are newly initialized: ['classifier.bias', 'classifier.weight']\n",
      "You should probably TRAIN this model on a down-stream task to be able to use it for predictions and inference.\n"
     ]
    }
   ],
   "source": [
    "# 8. 모델 정의\n",
    "model = AutoModelForSequenceClassification.from_pretrained(\n",
    "    \"klue/bert-base\",\n",
    "    num_labels=len(label_encoder.classes_)\n",
    ")"
   ]
  },
  {
   "cell_type": "code",
   "execution_count": 7,
   "id": "b6da0345",
   "metadata": {},
   "outputs": [],
   "source": [
    "# 5. Metrics\n",
    "def compute_metrics(pred):\n",
    "    labels = pred.label_ids\n",
    "    preds = np.argmax(pred.predictions, axis=1)\n",
    "    acc = accuracy_score(labels, preds)\n",
    "    return {\"accuracy\": acc}"
   ]
  },
  {
   "cell_type": "code",
   "execution_count": 8,
   "id": "d7e903cc",
   "metadata": {},
   "outputs": [
    {
     "name": "stdout",
     "output_type": "stream",
     "text": [
      "4.52.4\n"
     ]
    }
   ],
   "source": [
    "import transformers\n",
    "\n",
    "print(transformers.__version__)"
   ]
  },
  {
   "cell_type": "code",
   "execution_count": 9,
   "id": "471e52d5",
   "metadata": {},
   "outputs": [
    {
     "name": "stdout",
     "output_type": "stream",
     "text": [
      "1.7.0\n"
     ]
    }
   ],
   "source": [
    "import accelerate\n",
    "print(accelerate.__version__)\n"
   ]
  },
  {
   "cell_type": "code",
   "execution_count": 10,
   "id": "0bb05521",
   "metadata": {},
   "outputs": [
    {
     "name": "stdout",
     "output_type": "stream",
     "text": [
      "/home/gaon/anaconda3/envs/bert-env/bin/python\n"
     ]
    }
   ],
   "source": [
    "import sys\n",
    "print(sys.executable)"
   ]
  },
  {
   "cell_type": "code",
   "execution_count": 11,
   "id": "989678c7",
   "metadata": {},
   "outputs": [],
   "source": [
    "# 6. Training arguments\n",
    "training_args = TrainingArguments(\n",
    "    output_dir=\"./results3\",\n",
    "    eval_strategy=\"epoch\",\n",
    "    save_strategy=\"epoch\",\n",
    "    learning_rate=2e-5,\n",
    "    per_device_train_batch_size=64,\n",
    "    per_device_eval_batch_size=64,\n",
    "    num_train_epochs=100,\n",
    "    weight_decay=0.001,\n",
    "    logging_dir=\"./logs\",\n",
    "    load_best_model_at_end=True,\n",
    "    metric_for_best_model=\"eval_loss\",\n",
    "    greater_is_better=False,\n",
    "    fp16=True,\n",
    ")"
   ]
  },
  {
   "cell_type": "code",
   "execution_count": 12,
   "id": "1bf6bfd3",
   "metadata": {},
   "outputs": [],
   "source": [
    "# 7. Trainer\n",
    "trainer = Trainer(\n",
    "    model=model,\n",
    "    args=training_args,\n",
    "    train_dataset=train_dataset,\n",
    "    eval_dataset=val_dataset,\n",
    "    compute_metrics=compute_metrics,\n",
    "    callbacks=[EarlyStoppingCallback(early_stopping_patience=2)],\n",
    ")"
   ]
  },
  {
   "cell_type": "markdown",
   "id": "218744e0",
   "metadata": {},
   "source": []
  },
  {
   "cell_type": "code",
   "execution_count": 13,
   "id": "912ea5ea",
   "metadata": {},
   "outputs": [
    {
     "data": {
      "text/html": [
       "\n",
       "    <div>\n",
       "      \n",
       "      <progress value='6402' max='106700' style='width:300px; height:20px; vertical-align: middle;'></progress>\n",
       "      [  6402/106700 16:39:43 < 261:07:07, 0.11 it/s, Epoch 6/100]\n",
       "    </div>\n",
       "    <table border=\"1\" class=\"dataframe\">\n",
       "  <thead>\n",
       " <tr style=\"text-align: left;\">\n",
       "      <th>Epoch</th>\n",
       "      <th>Training Loss</th>\n",
       "      <th>Validation Loss</th>\n",
       "      <th>Accuracy</th>\n",
       "    </tr>\n",
       "  </thead>\n",
       "  <tbody>\n",
       "    <tr>\n",
       "      <td>1</td>\n",
       "      <td>0.396200</td>\n",
       "      <td>0.340869</td>\n",
       "      <td>0.891496</td>\n",
       "    </tr>\n",
       "    <tr>\n",
       "      <td>2</td>\n",
       "      <td>0.234300</td>\n",
       "      <td>0.261978</td>\n",
       "      <td>0.919710</td>\n",
       "    </tr>\n",
       "    <tr>\n",
       "      <td>3</td>\n",
       "      <td>0.145400</td>\n",
       "      <td>0.238243</td>\n",
       "      <td>0.929598</td>\n",
       "    </tr>\n",
       "    <tr>\n",
       "      <td>4</td>\n",
       "      <td>0.094900</td>\n",
       "      <td>0.214598</td>\n",
       "      <td>0.940804</td>\n",
       "    </tr>\n",
       "    <tr>\n",
       "      <td>5</td>\n",
       "      <td>0.065600</td>\n",
       "      <td>0.236389</td>\n",
       "      <td>0.941991</td>\n",
       "    </tr>\n",
       "    <tr>\n",
       "      <td>6</td>\n",
       "      <td>0.047400</td>\n",
       "      <td>0.238068</td>\n",
       "      <td>0.944628</td>\n",
       "    </tr>\n",
       "  </tbody>\n",
       "</table><p>"
      ],
      "text/plain": [
       "<IPython.core.display.HTML object>"
      ]
     },
     "metadata": {},
     "output_type": "display_data"
    },
    {
     "data": {
      "text/plain": [
       "TrainOutput(global_step=6402, training_loss=0.18790558716983433, metrics={'train_runtime': 59989.3429, 'train_samples_per_second': 113.78, 'train_steps_per_second': 1.779, 'total_flos': 1.0776118896584294e+17, 'train_loss': 0.18790558716983433, 'epoch': 6.0})"
      ]
     },
     "execution_count": 13,
     "metadata": {},
     "output_type": "execute_result"
    }
   ],
   "source": [
    "# 8. Train\n",
    "trainer.train()"
   ]
  },
  {
   "cell_type": "code",
   "execution_count": 14,
   "id": "a522c26f",
   "metadata": {},
   "outputs": [
    {
     "data": {
      "text/plain": [
       "('./results4/tokenizer_config.json',\n",
       " './results4/special_tokens_map.json',\n",
       " './results4/vocab.txt',\n",
       " './results4/added_tokens.json',\n",
       " './results4/tokenizer.json')"
      ]
     },
     "execution_count": 14,
     "metadata": {},
     "output_type": "execute_result"
    }
   ],
   "source": [
    "model.save_pretrained(\"./results4\")\n",
    "tokenizer.save_pretrained(\"./results4\")"
   ]
  },
  {
   "cell_type": "code",
   "execution_count": 15,
   "id": "5fdb94c9",
   "metadata": {},
   "outputs": [],
   "source": [
    "import pickle\n",
    "with open(\"./results4/label_encoder.pkl\", \"wb\") as f:\n",
    "    pickle.dump(label_encoder, f)"
   ]
  },
  {
   "cell_type": "code",
   "execution_count": 16,
   "id": "d62dcf53",
   "metadata": {},
   "outputs": [
    {
     "data": {
      "text/html": [
       "\n",
       "    <div>\n",
       "      \n",
       "      <progress value='132' max='132' style='width:300px; height:20px; vertical-align: middle;'></progress>\n",
       "      [132/132 01:49]\n",
       "    </div>\n",
       "    "
      ],
      "text/plain": [
       "<IPython.core.display.HTML object>"
      ]
     },
     "metadata": {},
     "output_type": "display_data"
    },
    {
     "name": "stdout",
     "output_type": "stream",
     "text": [
      "✅ Test Accuracy: 0.9356\n"
     ]
    }
   ],
   "source": [
    "# 10. Evaluate on test set\n",
    "test_result = trainer.evaluate(test_dataset)\n",
    "print(f\"✅ Test Accuracy: {test_result['eval_accuracy']:.4f}\")"
   ]
  },
  {
   "cell_type": "code",
   "execution_count": 17,
   "id": "f7b0bd0f",
   "metadata": {},
   "outputs": [
    {
     "data": {
      "text/plain": [
       "{'eval_loss': 0.23773278295993805,\n",
       " 'eval_accuracy': 0.935564257742969,\n",
       " 'eval_runtime': 110.5774,\n",
       " 'eval_samples_per_second': 76.209,\n",
       " 'eval_steps_per_second': 1.194,\n",
       " 'epoch': 6.0}"
      ]
     },
     "execution_count": 17,
     "metadata": {},
     "output_type": "execute_result"
    }
   ],
   "source": [
    "test_result"
   ]
  },
  {
   "cell_type": "code",
   "execution_count": null,
   "id": "be9aed21",
   "metadata": {},
   "outputs": [
    {
     "data": {
      "text/plain": [
       "BertForSequenceClassification(\n",
       "  (bert): BertModel(\n",
       "    (embeddings): BertEmbeddings(\n",
       "      (word_embeddings): Embedding(32000, 768, padding_idx=0)\n",
       "      (position_embeddings): Embedding(512, 768)\n",
       "      (token_type_embeddings): Embedding(2, 768)\n",
       "      (LayerNorm): LayerNorm((768,), eps=1e-12, elementwise_affine=True)\n",
       "      (dropout): Dropout(p=0.1, inplace=False)\n",
       "    )\n",
       "    (encoder): BertEncoder(\n",
       "      (layer): ModuleList(\n",
       "        (0-11): 12 x BertLayer(\n",
       "          (attention): BertAttention(\n",
       "            (self): BertSdpaSelfAttention(\n",
       "              (query): Linear(in_features=768, out_features=768, bias=True)\n",
       "              (key): Linear(in_features=768, out_features=768, bias=True)\n",
       "              (value): Linear(in_features=768, out_features=768, bias=True)\n",
       "              (dropout): Dropout(p=0.1, inplace=False)\n",
       "            )\n",
       "            (output): BertSelfOutput(\n",
       "              (dense): Linear(in_features=768, out_features=768, bias=True)\n",
       "              (LayerNorm): LayerNorm((768,), eps=1e-12, elementwise_affine=True)\n",
       "              (dropout): Dropout(p=0.1, inplace=False)\n",
       "            )\n",
       "          )\n",
       "          (intermediate): BertIntermediate(\n",
       "            (dense): Linear(in_features=768, out_features=3072, bias=True)\n",
       "            (intermediate_act_fn): GELUActivation()\n",
       "          )\n",
       "          (output): BertOutput(\n",
       "            (dense): Linear(in_features=3072, out_features=768, bias=True)\n",
       "            (LayerNorm): LayerNorm((768,), eps=1e-12, elementwise_affine=True)\n",
       "            (dropout): Dropout(p=0.1, inplace=False)\n",
       "          )\n",
       "        )\n",
       "      )\n",
       "    )\n",
       "    (pooler): BertPooler(\n",
       "      (dense): Linear(in_features=768, out_features=768, bias=True)\n",
       "      (activation): Tanh()\n",
       "    )\n",
       "  )\n",
       "  (dropout): Dropout(p=0.1, inplace=False)\n",
       "  (classifier): Linear(in_features=768, out_features=15, bias=True)\n",
       ")"
      ]
     },
     "execution_count": 13,
     "metadata": {},
     "output_type": "execute_result"
    }
   ],
   "source": [
    "from transformers import AutoTokenizer, AutoModelForSequenceClassification\n",
    "\n",
    "# 모델 & 토크나이저 로드\n",
    "model_path = \"./results2\"  # 저장된 디렉토리\n",
    "model = AutoModelForSequenceClassification.from_pretrained(model_path)\n",
    "tokenizer = AutoTokenizer.from_pretrained(model_path)\n",
    "\n",
    "model.eval()  # 추론 모드"
   ]
  },
  {
   "cell_type": "code",
   "execution_count": 14,
   "id": "523d0f45",
   "metadata": {},
   "outputs": [],
   "source": [
    "import torch\n",
    "\n",
    "def predict(text):\n",
    "    # 토크나이즈\n",
    "    inputs = tokenizer(text, return_tensors=\"pt\", padding=True, truncation=True, max_length=256)\n",
    "    with torch.no_grad():\n",
    "        outputs = model(**inputs)\n",
    "        logits = outputs.logits\n",
    "        predicted_class_id = torch.argmax(logits, dim=1).item()\n",
    "    return predicted_class_id\n"
   ]
  },
  {
   "cell_type": "code",
   "execution_count": 21,
   "id": "ce89b3b6",
   "metadata": {},
   "outputs": [],
   "source": [
    "import torch\n",
    "from transformers import AutoTokenizer, AutoModelForSequenceClassification\n",
    "import pickle\n",
    "\n",
    "# 1. 저장된 모델과 토크나이저 불러오기\n",
    "model_path = \"./results4\"\n",
    "model = AutoModelForSequenceClassification.from_pretrained(model_path)\n",
    "tokenizer = AutoTokenizer.from_pretrained(model_path)\n",
    "model.eval()  # 추론 모드로 전환\n",
    "\n",
    "# 2. 저장된 label_encoder 불러오기\n",
    "with open(\"./results4/label_encoder.pkl\", \"rb\") as f:\n",
    "    label_encoder = pickle.load(f)\n",
    "\n",
    "# 3. 예측 함수 정의\n",
    "def predict(text):\n",
    "    # 텍스트 토큰화\n",
    "    inputs = tokenizer(text, return_tensors=\"pt\", truncation=True, padding=True, max_length=256)\n",
    "    with torch.no_grad():\n",
    "        outputs = model(**inputs)\n",
    "        logits = outputs.logits\n",
    "        predicted_class_id = torch.argmax(logits, dim=1).item()\n",
    "\n",
    "    # 인코딩된 숫자를 다시 라벨(텍스트)로 변환\n",
    "    predicted_label = label_encoder.inverse_transform([predicted_class_id])[0]\n",
    "    return predicted_label"
   ]
  },
  {
   "cell_type": "code",
   "execution_count": 22,
   "id": "3f71e965",
   "metadata": {},
   "outputs": [
    {
     "name": "stdout",
     "output_type": "stream",
     "text": [
      "예측된 카테고리: 식품\n"
     ]
    }
   ],
   "source": [
    "text = \"제품명: 프리미엄 제주 감귤 3kg / 가격: 12,900원 / 브랜드: 감귤나라\"\n",
    "result = predict(text)\n",
    "print(\"예측된 카테고리:\", result)"
   ]
  },
  {
   "cell_type": "code",
   "execution_count": 23,
   "id": "fce99797",
   "metadata": {},
   "outputs": [
    {
     "name": "stdout",
     "output_type": "stream",
     "text": [
      "예측된 카테고리: 패션잡화\n"
     ]
    }
   ],
   "source": [
    "text = \"제품명: 남성 방한화 겨울 털신발 남자 발목부츠 E55 / 가격: 24,400원 / {'상품번호': '7744368727', '상품상태': '신상품', '제조사': '다된데', '브랜드': '다된데', '모델명': 'E55', '원산지': '기타국가', '제품의 주소재': '상품상세설명 참조', '색상': '상품상세설명 참조', '치수': '상품정보 제공고시\\n발길이 상품상세설명 참조\\n굽높이 상품상세설명 참조', '발길이': '상품상세설명 참조', '굽높이': '상품상세설명 참조', '제조자(사)': '상품상세설명 참조', '제조국': '기타국가', '재화등의 A/S 관련 전화번호': '상세정보 확인'}\"\n",
    "result = predict(text)\n",
    "print(\"예측된 카테고리:\", result)"
   ]
  }
 ],
 "metadata": {
  "kernelspec": {
   "display_name": "Python (bert-env)",
   "language": "python",
   "name": "bert-env"
  },
  "language_info": {
   "codemirror_mode": {
    "name": "ipython",
    "version": 3
   },
   "file_extension": ".py",
   "mimetype": "text/x-python",
   "name": "python",
   "nbconvert_exporter": "python",
   "pygments_lexer": "ipython3",
   "version": "3.10.16"
  }
 },
 "nbformat": 4,
 "nbformat_minor": 5
}
